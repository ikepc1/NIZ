{
 "cells": [
  {
   "cell_type": "code",
   "execution_count": 1,
   "id": "d3f25ec5-9db1-4ea0-93da-637d38de4dc6",
   "metadata": {},
   "outputs": [],
   "source": [
    "from mcmc import *\n",
    "from fit import *\n",
    "from process_showers import ProcessEvents\n",
    "from counter_config import CounterConfig, init_config\n",
    "# from datafiles import *\n",
    "import matplotlib.pyplot as plt\n",
    "plt.ion()\n",
    "from utils import plot_event, plot_generator\n",
    "\n",
    "\n",
    "data_date_and_time = '20200228054423'\n",
    "cfg = init_config(data_date_and_time)\n",
    "# ckv = GetCkv(cfg)"
   ]
  },
  {
   "cell_type": "code",
   "execution_count": 2,
   "id": "4c5a6f7d-ab36-49c5-8d59-a8e8b165110e",
   "metadata": {},
   "outputs": [],
   "source": [
    "# pars = [600.,2.e6,np.deg2rad(40.),np.deg2rad(315.), 450., -660.,-29,0,70,80.]\n",
    "# ev = BasicParams.get_event(pars)\n",
    "# pe = ProcessEvents(cfg, frozen_noise=False)\n",
    "# real_nfits = pe.gen_nfits_from_event(ev)"
   ]
  },
  {
   "cell_type": "code",
   "execution_count": 3,
   "id": "afc56491-5668-488f-8dfd-a7011b702b9b",
   "metadata": {},
   "outputs": [],
   "source": [
    "corsika_file = '/home/isaac/NIZ/angle_cut_no_thinning/iact_DAT000064.dat'\n",
    "pe = ProcessEvents(cfg, frozen_noise=True)\n",
    "real_nfits = pe.gen_nfits_from_ei(corsika_file)"
   ]
  },
  {
   "cell_type": "code",
   "execution_count": 4,
   "id": "c7086369-9472-4064-af33-91c121d62a6c",
   "metadata": {},
   "outputs": [],
   "source": [
    "pf = NichePlane(real_nfits)\n",
    "ty = tyro(real_nfits)"
   ]
  },
  {
   "cell_type": "code",
   "execution_count": 5,
   "id": "a588dacb-2938-46ee-addc-adc6c2dfc037",
   "metadata": {},
   "outputs": [
    {
     "data": {
      "text/plain": [
       "0.6421481780386517"
      ]
     },
     "execution_count": 5,
     "metadata": {},
     "output_type": "execute_result"
    }
   ],
   "source": [
    "pf.theta"
   ]
  },
  {
   "cell_type": "code",
   "execution_count": 6,
   "id": "589c4cdf-5c95-49de-bbf6-7dca66d8b775",
   "metadata": {
    "tags": []
   },
   "outputs": [
    {
     "data": {
      "text/plain": [
       "5.411703623988073"
      ]
     },
     "execution_count": 6,
     "metadata": {},
     "output_type": "execute_result"
    }
   ],
   "source": [
    "pf.phi"
   ]
  },
  {
   "cell_type": "code",
   "execution_count": 7,
   "id": "0f666264-ca1f-4d3c-a71d-145855912465",
   "metadata": {},
   "outputs": [
    {
     "name": "stdout",
     "output_type": "stream",
     "text": [
      "[525.0, 1200354.0, 0.7038913, 4.981169732409068, 437.0, -660.0, -29.0, 0, 70, 0.0]\n"
     ]
    }
   ],
   "source": [
    "import CHASM as ch\n",
    "ei = ch.EventioWrapper(corsika_file)\n",
    "xmax = ei.X[ei.nch.argmax()]\n",
    "nmax = ei.nch.max()\n",
    "theta = ei.theta\n",
    "phi = ei.phi\n",
    "pars = [xmax,nmax,theta,phi,437., -660.,-29.0,0,70,0.]\n",
    "print(pars)"
   ]
  },
  {
   "cell_type": "code",
   "execution_count": 8,
   "id": "576e5f2d-259f-4993-9119-e4af12ad4a8e",
   "metadata": {},
   "outputs": [],
   "source": [
    "guess = make_guess(ty,pf,cfg)\n",
    "pardict = {p.name:pars[i] for i,p in enumerate(guess[:-1])}\n",
    "pardict['t_offset'] = 64."
   ]
  },
  {
   "cell_type": "code",
   "execution_count": 9,
   "id": "51279bbb-86f8-4a97-aade-0d8e9b6c4d0f",
   "metadata": {
    "tags": []
   },
   "outputs": [],
   "source": [
    "pt = PeakTimes(real_nfits, BasicParams, cfg)\n",
    "pt.target_parameters = ['zenith','azimuth']\n",
    "m = init_minuit(pt, guess)\n",
    "m.tol = .1\n",
    "# m.simplex()"
   ]
  },
  {
   "cell_type": "code",
   "execution_count": 10,
   "id": "76907173-fcec-4282-9223-dd1fab029318",
   "metadata": {
    "tags": []
   },
   "outputs": [
    {
     "data": {
      "text/html": [
       "<table>\n",
       "    <tr>\n",
       "        <th colspan=\"2\" style=\"text-align:center\" title=\"Minimizer\"> Simplex </th>\n",
       "    </tr>\n",
       "    <tr>\n",
       "        <td style=\"text-align:left\" title=\"Minimum value of function\"> FCN = 31.43 (χ²/ndof = 10.5) </td>\n",
       "        <td style=\"text-align:center\" title=\"Total number of function and (optional) gradient evaluations\"> Nfcn = 158 </td>\n",
       "    </tr>\n",
       "    <tr>\n",
       "        <td style=\"text-align:left\" title=\"Estimated distance to minimum and goal\"> EDM = 0.0785 (Goal: 0.1) </td>\n",
       "        <td style=\"text-align:center\" title=\"Total run time of algorithms\"> time = 58.7 sec </td>\n",
       "    </tr>\n",
       "    <tr>\n",
       "        <td style=\"text-align:center;background-color:#92CCA6;color:black\"> Valid Minimum </td>\n",
       "        <td style=\"text-align:center;background-color:#92CCA6;color:black\"> Below EDM threshold (goal x 10) </td>\n",
       "    </tr>\n",
       "    <tr>\n",
       "        <td style=\"text-align:center;background-color:#92CCA6;color:black\"> No parameters at limit </td>\n",
       "        <td style=\"text-align:center;background-color:#92CCA6;color:black\"> Below call limit </td>\n",
       "    </tr>\n",
       "    <tr>\n",
       "        <td style=\"text-align:center;background-color:#FFF79A;color:black\"> Hesse not run </td>\n",
       "        <td style=\"text-align:center;background-color:#FFF79A;color:black\"> NO covariance </td>\n",
       "    </tr>\n",
       "</table><table>\n",
       "    <tr>\n",
       "        <td></td>\n",
       "        <th title=\"Variable name\"> Name </th>\n",
       "        <th title=\"Value of parameter\"> Value </th>\n",
       "        <th title=\"Hesse error\"> Hesse Error </th>\n",
       "        <th title=\"Minos lower error\"> Minos Error- </th>\n",
       "        <th title=\"Minos upper error\"> Minos Error+ </th>\n",
       "        <th title=\"Lower limit of the parameter\"> Limit- </th>\n",
       "        <th title=\"Upper limit of the parameter\"> Limit+ </th>\n",
       "        <th title=\"Is the parameter fixed in the fit\"> Fixed </th>\n",
       "    </tr>\n",
       "    <tr>\n",
       "        <th> 0 </th>\n",
       "        <td> xmax </td>\n",
       "        <td> 446 </td>\n",
       "        <td> 10 </td>\n",
       "        <td>  </td>\n",
       "        <td>  </td>\n",
       "        <td> 400 </td>\n",
       "        <td> 800 </td>\n",
       "        <td>  </td>\n",
       "    </tr>\n",
       "    <tr>\n",
       "        <th> 1 </th>\n",
       "        <td> nmax </td>\n",
       "        <td> 1.40e6 </td>\n",
       "        <td> 0.07e6 </td>\n",
       "        <td>  </td>\n",
       "        <td>  </td>\n",
       "        <td> 1E+04 </td>\n",
       "        <td> 1E+08 </td>\n",
       "        <td>  </td>\n",
       "    </tr>\n",
       "    <tr>\n",
       "        <th> 2 </th>\n",
       "        <td> zenith </td>\n",
       "        <td> 0.7360 </td>\n",
       "        <td> 0.0016 </td>\n",
       "        <td>  </td>\n",
       "        <td>  </td>\n",
       "        <td> 0 </td>\n",
       "        <td> 0.742 </td>\n",
       "        <td>  </td>\n",
       "    </tr>\n",
       "    <tr>\n",
       "        <th> 3 </th>\n",
       "        <td> azimuth </td>\n",
       "        <td> 5.470 </td>\n",
       "        <td> 0.006 </td>\n",
       "        <td>  </td>\n",
       "        <td>  </td>\n",
       "        <td> 5.31 </td>\n",
       "        <td> 5.51 </td>\n",
       "        <td>  </td>\n",
       "    </tr>\n",
       "    <tr>\n",
       "        <th> 4 </th>\n",
       "        <td> corex </td>\n",
       "        <td> 383.6 </td>\n",
       "        <td> 0.9 </td>\n",
       "        <td>  </td>\n",
       "        <td>  </td>\n",
       "        <td> 380 </td>\n",
       "        <td> 577 </td>\n",
       "        <td>  </td>\n",
       "    </tr>\n",
       "    <tr>\n",
       "        <th> 5 </th>\n",
       "        <td> corey </td>\n",
       "        <td> -650.9 </td>\n",
       "        <td> 0.9 </td>\n",
       "        <td>  </td>\n",
       "        <td>  </td>\n",
       "        <td> -821 </td>\n",
       "        <td> -619 </td>\n",
       "        <td>  </td>\n",
       "    </tr>\n",
       "    <tr>\n",
       "        <th> 6 </th>\n",
       "        <td> corez </td>\n",
       "        <td> -29 </td>\n",
       "        <td> 1 </td>\n",
       "        <td>  </td>\n",
       "        <td>  </td>\n",
       "        <td>  </td>\n",
       "        <td>  </td>\n",
       "        <td> yes </td>\n",
       "    </tr>\n",
       "    <tr>\n",
       "        <th> 7 </th>\n",
       "        <td> x0 </td>\n",
       "        <td> 0 </td>\n",
       "        <td> 1 </td>\n",
       "        <td>  </td>\n",
       "        <td>  </td>\n",
       "        <td>  </td>\n",
       "        <td>  </td>\n",
       "        <td> yes </td>\n",
       "    </tr>\n",
       "    <tr>\n",
       "        <th> 8 </th>\n",
       "        <td> lambda </td>\n",
       "        <td> 70 </td>\n",
       "        <td> 1 </td>\n",
       "        <td>  </td>\n",
       "        <td>  </td>\n",
       "        <td> 60 </td>\n",
       "        <td> 80 </td>\n",
       "        <td> yes </td>\n",
       "    </tr>\n",
       "    <tr>\n",
       "        <th> 9 </th>\n",
       "        <td> t_offset </td>\n",
       "        <td> 0 </td>\n",
       "        <td> 10 </td>\n",
       "        <td>  </td>\n",
       "        <td>  </td>\n",
       "        <td> -450 </td>\n",
       "        <td> 450 </td>\n",
       "        <td> yes </td>\n",
       "    </tr>\n",
       "</table>"
      ],
      "text/plain": [
       "┌─────────────────────────────────────────────────────────────────────────┐\n",
       "│                               Simplex                                   │\n",
       "├──────────────────────────────────┬──────────────────────────────────────┤\n",
       "│ FCN = 31.43 (χ²/ndof = 10.5)     │              Nfcn = 158              │\n",
       "│ EDM = 0.0785 (Goal: 0.1)         │           time = 58.7 sec            │\n",
       "├──────────────────────────────────┼──────────────────────────────────────┤\n",
       "│          Valid Minimum           │   Below EDM threshold (goal x 10)    │\n",
       "├──────────────────────────────────┼──────────────────────────────────────┤\n",
       "│      No parameters at limit      │           Below call limit           │\n",
       "├──────────────────────────────────┼──────────────────────────────────────┤\n",
       "│          Hesse not run           │            NO covariance             │\n",
       "└──────────────────────────────────┴──────────────────────────────────────┘\n",
       "┌───┬──────────┬───────────┬───────────┬────────────┬────────────┬─────────┬─────────┬───────┐\n",
       "│   │ Name     │   Value   │ Hesse Err │ Minos Err- │ Minos Err+ │ Limit-  │ Limit+  │ Fixed │\n",
       "├───┼──────────┼───────────┼───────────┼────────────┼────────────┼─────────┼─────────┼───────┤\n",
       "│ 0 │ xmax     │    446    │    10     │            │            │   400   │   800   │       │\n",
       "│ 1 │ nmax     │  1.40e6   │  0.07e6   │            │            │  10000  │  1e+08  │       │\n",
       "│ 2 │ zenith   │  0.7360   │  0.0016   │            │            │    0    │0.742148 │       │\n",
       "│ 3 │ azimuth  │   5.470   │   0.006   │            │            │ 5.3117  │ 5.5117  │       │\n",
       "│ 4 │ corex    │   383.6   │    0.9    │            │            │  379.5  │  577.4  │       │\n",
       "│ 5 │ corey    │  -650.9   │    0.9    │            │            │  -821   │ -619.1  │       │\n",
       "│ 6 │ corez    │    -29    │     1     │            │            │         │         │  yes  │\n",
       "│ 7 │ x0       │     0     │     1     │            │            │         │         │  yes  │\n",
       "│ 8 │ lambda   │    70     │     1     │            │            │   60    │   80    │  yes  │\n",
       "│ 9 │ t_offset │     0     │    10     │            │            │  -450   │   450   │  yes  │\n",
       "└───┴──────────┴───────────┴───────────┴────────────┴────────────┴─────────┴─────────┴───────┘"
      ]
     },
     "execution_count": 10,
     "metadata": {},
     "output_type": "execute_result"
    }
   ],
   "source": [
    "nmaxguess = update_guess(m)\n",
    "pa = NormalizedPulseArea(real_nfits, BasicParams, cfg)\n",
    "pa.target_parameters = ['xmax','nmax','zenith','azimuth','corex','corey']\n",
    "m = init_minuit(pa, nmaxguess)\n",
    "m.simplex()"
   ]
  },
  {
   "cell_type": "markdown",
   "id": "f85ad6d1-8094-458b-9a7f-53ede63f3549",
   "metadata": {
    "tags": []
   },
   "source": [
    "Now with a good estimate for the angles, we can fit the pulse widths to estimate xmax."
   ]
  },
  {
   "cell_type": "code",
   "execution_count": 11,
   "id": "fa9f2994-fac5-41f1-9fc9-e733ecf18d51",
   "metadata": {
    "tags": []
   },
   "outputs": [],
   "source": [
    "# guess = update_guess_values(guess, m)\n",
    "# pw = PulseWidth(real_nfits, BasicParams, cfg)\n",
    "# pw.target_parameters = ['xmax']\n",
    "# m = init_minuit(pw, guess)\n",
    "# m.simplex(ncall=40)"
   ]
  },
  {
   "cell_type": "markdown",
   "id": "2a984dec-fb98-4d66-81d1-66f690aa87a2",
   "metadata": {
    "tags": []
   },
   "source": [
    "Now, with a good estimate for log(xmax), we can fit the integrated pulse areas for nmax."
   ]
  },
  {
   "cell_type": "code",
   "execution_count": 12,
   "id": "b6a99e7e-a8a7-47a7-ad50-076bb1e07352",
   "metadata": {
    "tags": []
   },
   "outputs": [],
   "source": [
    "# guess = update_guess_values(guess, m)\n",
    "# pa = PulseArea(real_nfits, BasicParams, cfg)\n",
    "# pa.target_parameters = ['nmax']\n",
    "# m = init_minuit(pa, guess)\n",
    "# m.simplex(ncall=20)"
   ]
  },
  {
   "cell_type": "markdown",
   "id": "5a100a0d-dfa9-4150-a5d0-4b56e5007666",
   "metadata": {
    "tags": []
   },
   "source": [
    "Now, with these values in the ballpark, we can simultaneously minimize both the shower profile and core position by fitting the normalized pulse areas."
   ]
  },
  {
   "cell_type": "code",
   "execution_count": 13,
   "id": "87942097-cc95-4547-92d4-77a47d8066bd",
   "metadata": {
    "tags": []
   },
   "outputs": [],
   "source": [
    "# guess = update_guess_values(guess, m)\n",
    "# pa = NormalizedPulseArea(real_nfits, BasicParams, cfg)\n",
    "# pa.target_parameters = ['xmax','nmax','corex','corey']\n",
    "# m = init_minuit(pa, guess)\n",
    "# m.simplex()"
   ]
  },
  {
   "cell_type": "code",
   "execution_count": 14,
   "id": "0b1eec66-abea-474e-b2a9-81ad01ea2416",
   "metadata": {
    "tags": []
   },
   "outputs": [],
   "source": [
    "# guess = update_guess(m)\n",
    "# at = AllTunka(real_nfits, BasicParams, cfg)\n",
    "# at.target_parameters = ['t_offset']\n",
    "# m = init_minuit(at, guess)\n",
    "# m.migrad()"
   ]
  },
  {
   "cell_type": "code",
   "execution_count": 15,
   "id": "dd1f7514-402b-4f8d-a379-ea052f7221c3",
   "metadata": {
    "tags": []
   },
   "outputs": [],
   "source": [
    "# guess = update_guess(m)\n",
    "# at = AllSamples(real_nfits, BasicParams, cfg)\n",
    "# at.target_parameters = ['t_offset']\n",
    "# m = init_minuit(at, guess)\n"
   ]
  },
  {
   "cell_type": "code",
   "execution_count": 16,
   "id": "302c0588-cbad-418e-b04e-e46b01ac8e2c",
   "metadata": {},
   "outputs": [],
   "source": [
    "# m.tol=.1\n",
    "# m.fixed = True\n",
    "# m.fixed['xmax'] = False\n",
    "# m.fixed['nmax'] = False\n",
    "# m.fixed['zenith'] = False\n",
    "# m.fixed['azimuth'] = False\n",
    "# # m.fixed['corex'] = False\n",
    "# # m.fixed['corey'] = False\n",
    "# m.fixed['t_offset'] = False\n",
    "# # m.scan()\n",
    "# m.simplex()"
   ]
  },
  {
   "cell_type": "code",
   "execution_count": 17,
   "id": "77b637c5-0213-44de-aab1-0f245e3525aa",
   "metadata": {},
   "outputs": [],
   "source": [
    "guess = update_guess_values(guess, m)\n",
    "guessdict = {p.name:p for p in guess}\n",
    "# guessdict['xmax'].limits = (guessdict['xmax'].value - 50., guessdict['xmax'].value + 50.)\n",
    "# guessdict['nmax'].limits = (guessdict['nmax'].value - 2.e5, guessdict['nmax'].value + 2.e5)\n",
    "# guessdict['zenith'].limits = (guessdict['zenith'].value - 5.e-3, guessdict['zenith'].value + 5.e-3)\n",
    "# guessdict['azimuth'].limits = (guessdict['azimuth'].value - 5.e-3, guessdict['azimuth'].value + 5.e-3)\n",
    "# guessdict['corex'].limits = (guessdict['corex'].value - 5., guessdict['corex'].value + 5.)\n",
    "# guessdict['corey'].limits = (guessdict['corey'].value - 5., guessdict['corey'].value + 5.)\n",
    "# guessdict['zenith'].fixed = True\n",
    "# guessdict['azimuth'].fixed = True\n",
    "# guessdict['corex'].fixed = True\n",
    "# guessdict['corey'].fixed = True\n",
    "guessdict['corez'].fixed = True\n",
    "guessdict['x0'].fixed = True\n",
    "guessdict['lambda'].fixed = True\n",
    "# guessdict['t_offset'].fixed = True"
   ]
  },
  {
   "cell_type": "code",
   "execution_count": 18,
   "id": "3f24f67a-f225-4aa8-b0d6-80c422bdd407",
   "metadata": {
    "tags": []
   },
   "outputs": [],
   "source": [
    "initial_guessdict = {p.name:p.value for p in guess}\n",
    "initial_guessdict['t_offset'] = 80."
   ]
  },
  {
   "cell_type": "code",
   "execution_count": 19,
   "id": "18d6c4a5-b67b-4931-a768-327722edfaff",
   "metadata": {
    "tags": []
   },
   "outputs": [],
   "source": [
    "names = [p.name for p in guess if not p.fixed]\n",
    "ndim = len(names)"
   ]
  },
  {
   "cell_type": "code",
   "execution_count": 20,
   "id": "6c213a5e-2a8b-4e82-8bcc-f65970fe827f",
   "metadata": {
    "tags": []
   },
   "outputs": [
    {
     "name": "stderr",
     "output_type": "stream",
     "text": [
      "  0%|                                       | 13/5000 [01:06<6:49:39,  4.93s/it]/home/isaac/NIZ/niche_fit.py:101: RuntimeWarning: invalid value encountered in power\n",
      "  lout[fl5] += pk*np.exp(-f5**(2+f5/2))\n",
      "  1%|▏                                      | 29/5000 [02:10<5:11:58,  3.77s/it]/home/isaac/NIZ/niche_fit.py:101: RuntimeWarning: invalid value encountered in power\n",
      "  lout[fl5] += pk*np.exp(-f5**(2+f5/2))\n",
      "  1%|▎                                      | 38/5000 [02:47<5:23:28,  3.91s/it]/home/isaac/NIZ/niche_fit.py:101: RuntimeWarning: invalid value encountered in power\n",
      "  lout[fl5] += pk*np.exp(-f5**(2+f5/2))\n",
      "  1%|▍                                      | 53/5000 [03:48<5:10:03,  3.76s/it]/home/isaac/NIZ/niche_fit.py:101: RuntimeWarning: invalid value encountered in power\n",
      "  lout[fl5] += pk*np.exp(-f5**(2+f5/2))\n",
      "  1%|▍                                      | 64/5000 [04:34<5:49:25,  4.25s/it]/home/isaac/NIZ/niche_fit.py:101: RuntimeWarning: invalid value encountered in power\n",
      "  lout[fl5] += pk*np.exp(-f5**(2+f5/2))\n",
      "  8%|██▉                                   | 381/5000 [24:21<4:55:30,  3.84s/it]/home/isaac/NIZ/niche_fit.py:101: RuntimeWarning: invalid value encountered in power\n",
      "  lout[fl5] += pk*np.exp(-f5**(2+f5/2))\n",
      " 14%|█████▌                                | 724/5000 [43:45<4:55:15,  4.14s/it]/home/isaac/NIZ/niche_fit.py:101: RuntimeWarning: invalid value encountered in power\n",
      "  lout[fl5] += pk*np.exp(-f5**(2+f5/2))\n",
      " 15%|█████▊                                | 757/5000 [46:04<4:18:13,  3.65s/it]\n"
     ]
    },
    {
     "ename": "KeyboardInterrupt",
     "evalue": "",
     "output_type": "error",
     "traceback": [
      "\u001b[0;31m---------------------------------------------------------------------------\u001b[0m",
      "\u001b[0;31mKeyboardInterrupt\u001b[0m                         Traceback (most recent call last)",
      "Cell \u001b[0;32mIn[20], line 1\u001b[0m\n\u001b[0;32m----> 1\u001b[0m sampler, pos, prob, state \u001b[38;5;241m=\u001b[39m \u001b[43mmain\u001b[49m\u001b[43m(\u001b[49m\u001b[43mpa\u001b[49m\u001b[43m,\u001b[49m\u001b[43mguess\u001b[49m\u001b[43m,\u001b[49m\u001b[43mniter\u001b[49m\u001b[38;5;241;43m=\u001b[39;49m\u001b[38;5;241;43m5000\u001b[39;49m\u001b[43m,\u001b[49m\u001b[43mnwalkers\u001b[49m\u001b[38;5;241;43m=\u001b[39;49m\u001b[43mndim\u001b[49m\u001b[38;5;241;43m*\u001b[39;49m\u001b[38;5;241;43m2\u001b[39;49m\u001b[43m)\u001b[49m\n",
      "File \u001b[0;32m~/NIZ/mcmc.py:57\u001b[0m, in \u001b[0;36mmain\u001b[0;34m(ff, guess, nwalkers, niter)\u001b[0m\n\u001b[1;32m     55\u001b[0m \u001b[38;5;28;01mwith\u001b[39;00m Pool() \u001b[38;5;28;01mas\u001b[39;00m pool:\n\u001b[1;32m     56\u001b[0m     sampler \u001b[38;5;241m=\u001b[39m emcee\u001b[38;5;241m.\u001b[39mEnsembleSampler(nwalkers, ndim, lp\u001b[38;5;241m.\u001b[39mlnprob, pool\u001b[38;5;241m=\u001b[39mpool, parameter_names\u001b[38;5;241m=\u001b[39mnames)\n\u001b[0;32m---> 57\u001b[0m     pos, prob, state \u001b[38;5;241m=\u001b[39m \u001b[43msampler\u001b[49m\u001b[38;5;241;43m.\u001b[39;49m\u001b[43mrun_mcmc\u001b[49m\u001b[43m(\u001b[49m\u001b[43mp0\u001b[49m\u001b[43m,\u001b[49m\u001b[43m \u001b[49m\u001b[43mniter\u001b[49m\u001b[43m,\u001b[49m\u001b[43m \u001b[49m\u001b[43mprogress\u001b[49m\u001b[38;5;241;43m=\u001b[39;49m\u001b[38;5;28;43;01mTrue\u001b[39;49;00m\u001b[43m)\u001b[49m\n\u001b[1;32m     59\u001b[0m \u001b[38;5;28;01mreturn\u001b[39;00m sampler, pos, prob, state\n",
      "File \u001b[0;32m~/anaconda3/envs/py10/lib/python3.10/site-packages/emcee/ensemble.py:443\u001b[0m, in \u001b[0;36mEnsembleSampler.run_mcmc\u001b[0;34m(self, initial_state, nsteps, **kwargs)\u001b[0m\n\u001b[1;32m    440\u001b[0m     initial_state \u001b[38;5;241m=\u001b[39m \u001b[38;5;28mself\u001b[39m\u001b[38;5;241m.\u001b[39m_previous_state\n\u001b[1;32m    442\u001b[0m results \u001b[38;5;241m=\u001b[39m \u001b[38;5;28;01mNone\u001b[39;00m\n\u001b[0;32m--> 443\u001b[0m \u001b[38;5;28;01mfor\u001b[39;00m results \u001b[38;5;129;01min\u001b[39;00m \u001b[38;5;28mself\u001b[39m\u001b[38;5;241m.\u001b[39msample(initial_state, iterations\u001b[38;5;241m=\u001b[39mnsteps, \u001b[38;5;241m*\u001b[39m\u001b[38;5;241m*\u001b[39mkwargs):\n\u001b[1;32m    444\u001b[0m     \u001b[38;5;28;01mpass\u001b[39;00m\n\u001b[1;32m    446\u001b[0m \u001b[38;5;66;03m# Store so that the ``initial_state=None`` case will work\u001b[39;00m\n",
      "File \u001b[0;32m~/anaconda3/envs/py10/lib/python3.10/site-packages/emcee/ensemble.py:402\u001b[0m, in \u001b[0;36mEnsembleSampler.sample\u001b[0;34m(self, initial_state, log_prob0, rstate0, blobs0, iterations, tune, skip_initial_state_check, thin_by, thin, store, progress, progress_kwargs)\u001b[0m\n\u001b[1;32m    399\u001b[0m move \u001b[38;5;241m=\u001b[39m \u001b[38;5;28mself\u001b[39m\u001b[38;5;241m.\u001b[39m_random\u001b[38;5;241m.\u001b[39mchoice(\u001b[38;5;28mself\u001b[39m\u001b[38;5;241m.\u001b[39m_moves, p\u001b[38;5;241m=\u001b[39m\u001b[38;5;28mself\u001b[39m\u001b[38;5;241m.\u001b[39m_weights)\n\u001b[1;32m    401\u001b[0m \u001b[38;5;66;03m# Propose\u001b[39;00m\n\u001b[0;32m--> 402\u001b[0m state, accepted \u001b[38;5;241m=\u001b[39m \u001b[43mmove\u001b[49m\u001b[38;5;241;43m.\u001b[39;49m\u001b[43mpropose\u001b[49m\u001b[43m(\u001b[49m\u001b[43mmodel\u001b[49m\u001b[43m,\u001b[49m\u001b[43m \u001b[49m\u001b[43mstate\u001b[49m\u001b[43m)\u001b[49m\n\u001b[1;32m    403\u001b[0m state\u001b[38;5;241m.\u001b[39mrandom_state \u001b[38;5;241m=\u001b[39m \u001b[38;5;28mself\u001b[39m\u001b[38;5;241m.\u001b[39mrandom_state\n\u001b[1;32m    405\u001b[0m \u001b[38;5;28;01mif\u001b[39;00m tune:\n",
      "File \u001b[0;32m~/anaconda3/envs/py10/lib/python3.10/site-packages/emcee/moves/red_blue.py:93\u001b[0m, in \u001b[0;36mRedBlueMove.propose\u001b[0;34m(self, model, state)\u001b[0m\n\u001b[1;32m     90\u001b[0m q, factors \u001b[38;5;241m=\u001b[39m \u001b[38;5;28mself\u001b[39m\u001b[38;5;241m.\u001b[39mget_proposal(s, c, model\u001b[38;5;241m.\u001b[39mrandom)\n\u001b[1;32m     92\u001b[0m \u001b[38;5;66;03m# Compute the lnprobs of the proposed position.\u001b[39;00m\n\u001b[0;32m---> 93\u001b[0m new_log_probs, new_blobs \u001b[38;5;241m=\u001b[39m \u001b[43mmodel\u001b[49m\u001b[38;5;241;43m.\u001b[39;49m\u001b[43mcompute_log_prob_fn\u001b[49m\u001b[43m(\u001b[49m\u001b[43mq\u001b[49m\u001b[43m)\u001b[49m\n\u001b[1;32m     95\u001b[0m \u001b[38;5;66;03m# Loop over the walkers and update them accordingly.\u001b[39;00m\n\u001b[1;32m     96\u001b[0m \u001b[38;5;28;01mfor\u001b[39;00m i, (j, f, nlp) \u001b[38;5;129;01min\u001b[39;00m \u001b[38;5;28menumerate\u001b[39m(\n\u001b[1;32m     97\u001b[0m     \u001b[38;5;28mzip\u001b[39m(all_inds[S1], factors, new_log_probs)\n\u001b[1;32m     98\u001b[0m ):\n",
      "File \u001b[0;32m~/anaconda3/envs/py10/lib/python3.10/site-packages/emcee/ensemble.py:489\u001b[0m, in \u001b[0;36mEnsembleSampler.compute_log_prob\u001b[0;34m(self, coords)\u001b[0m\n\u001b[1;32m    487\u001b[0m     \u001b[38;5;28;01melse\u001b[39;00m:\n\u001b[1;32m    488\u001b[0m         map_func \u001b[38;5;241m=\u001b[39m \u001b[38;5;28mmap\u001b[39m\n\u001b[0;32m--> 489\u001b[0m     results \u001b[38;5;241m=\u001b[39m \u001b[38;5;28mlist\u001b[39m(\u001b[43mmap_func\u001b[49m\u001b[43m(\u001b[49m\u001b[38;5;28;43mself\u001b[39;49m\u001b[38;5;241;43m.\u001b[39;49m\u001b[43mlog_prob_fn\u001b[49m\u001b[43m,\u001b[49m\u001b[43m \u001b[49m\u001b[43mp\u001b[49m\u001b[43m)\u001b[49m)\n\u001b[1;32m    491\u001b[0m \u001b[38;5;28;01mtry\u001b[39;00m:\n\u001b[1;32m    492\u001b[0m     log_prob \u001b[38;5;241m=\u001b[39m np\u001b[38;5;241m.\u001b[39marray([\u001b[38;5;28mfloat\u001b[39m(l[\u001b[38;5;241m0\u001b[39m]) \u001b[38;5;28;01mfor\u001b[39;00m l \u001b[38;5;129;01min\u001b[39;00m results])\n",
      "File \u001b[0;32m~/anaconda3/envs/py10/lib/python3.10/multiprocessing/pool.py:367\u001b[0m, in \u001b[0;36mPool.map\u001b[0;34m(self, func, iterable, chunksize)\u001b[0m\n\u001b[1;32m    362\u001b[0m \u001b[38;5;28;01mdef\u001b[39;00m \u001b[38;5;21mmap\u001b[39m(\u001b[38;5;28mself\u001b[39m, func, iterable, chunksize\u001b[38;5;241m=\u001b[39m\u001b[38;5;28;01mNone\u001b[39;00m):\n\u001b[1;32m    363\u001b[0m \u001b[38;5;250m    \u001b[39m\u001b[38;5;124;03m'''\u001b[39;00m\n\u001b[1;32m    364\u001b[0m \u001b[38;5;124;03m    Apply `func` to each element in `iterable`, collecting the results\u001b[39;00m\n\u001b[1;32m    365\u001b[0m \u001b[38;5;124;03m    in a list that is returned.\u001b[39;00m\n\u001b[1;32m    366\u001b[0m \u001b[38;5;124;03m    '''\u001b[39;00m\n\u001b[0;32m--> 367\u001b[0m     \u001b[38;5;28;01mreturn\u001b[39;00m \u001b[38;5;28;43mself\u001b[39;49m\u001b[38;5;241;43m.\u001b[39;49m\u001b[43m_map_async\u001b[49m\u001b[43m(\u001b[49m\u001b[43mfunc\u001b[49m\u001b[43m,\u001b[49m\u001b[43m \u001b[49m\u001b[43miterable\u001b[49m\u001b[43m,\u001b[49m\u001b[43m \u001b[49m\u001b[43mmapstar\u001b[49m\u001b[43m,\u001b[49m\u001b[43m \u001b[49m\u001b[43mchunksize\u001b[49m\u001b[43m)\u001b[49m\u001b[38;5;241;43m.\u001b[39;49m\u001b[43mget\u001b[49m\u001b[43m(\u001b[49m\u001b[43m)\u001b[49m\n",
      "File \u001b[0;32m~/anaconda3/envs/py10/lib/python3.10/multiprocessing/pool.py:768\u001b[0m, in \u001b[0;36mApplyResult.get\u001b[0;34m(self, timeout)\u001b[0m\n\u001b[1;32m    767\u001b[0m \u001b[38;5;28;01mdef\u001b[39;00m \u001b[38;5;21mget\u001b[39m(\u001b[38;5;28mself\u001b[39m, timeout\u001b[38;5;241m=\u001b[39m\u001b[38;5;28;01mNone\u001b[39;00m):\n\u001b[0;32m--> 768\u001b[0m     \u001b[38;5;28;43mself\u001b[39;49m\u001b[38;5;241;43m.\u001b[39;49m\u001b[43mwait\u001b[49m\u001b[43m(\u001b[49m\u001b[43mtimeout\u001b[49m\u001b[43m)\u001b[49m\n\u001b[1;32m    769\u001b[0m     \u001b[38;5;28;01mif\u001b[39;00m \u001b[38;5;129;01mnot\u001b[39;00m \u001b[38;5;28mself\u001b[39m\u001b[38;5;241m.\u001b[39mready():\n\u001b[1;32m    770\u001b[0m         \u001b[38;5;28;01mraise\u001b[39;00m \u001b[38;5;167;01mTimeoutError\u001b[39;00m\n",
      "File \u001b[0;32m~/anaconda3/envs/py10/lib/python3.10/multiprocessing/pool.py:765\u001b[0m, in \u001b[0;36mApplyResult.wait\u001b[0;34m(self, timeout)\u001b[0m\n\u001b[1;32m    764\u001b[0m \u001b[38;5;28;01mdef\u001b[39;00m \u001b[38;5;21mwait\u001b[39m(\u001b[38;5;28mself\u001b[39m, timeout\u001b[38;5;241m=\u001b[39m\u001b[38;5;28;01mNone\u001b[39;00m):\n\u001b[0;32m--> 765\u001b[0m     \u001b[38;5;28;43mself\u001b[39;49m\u001b[38;5;241;43m.\u001b[39;49m\u001b[43m_event\u001b[49m\u001b[38;5;241;43m.\u001b[39;49m\u001b[43mwait\u001b[49m\u001b[43m(\u001b[49m\u001b[43mtimeout\u001b[49m\u001b[43m)\u001b[49m\n",
      "File \u001b[0;32m~/anaconda3/envs/py10/lib/python3.10/threading.py:607\u001b[0m, in \u001b[0;36mEvent.wait\u001b[0;34m(self, timeout)\u001b[0m\n\u001b[1;32m    605\u001b[0m signaled \u001b[38;5;241m=\u001b[39m \u001b[38;5;28mself\u001b[39m\u001b[38;5;241m.\u001b[39m_flag\n\u001b[1;32m    606\u001b[0m \u001b[38;5;28;01mif\u001b[39;00m \u001b[38;5;129;01mnot\u001b[39;00m signaled:\n\u001b[0;32m--> 607\u001b[0m     signaled \u001b[38;5;241m=\u001b[39m \u001b[38;5;28;43mself\u001b[39;49m\u001b[38;5;241;43m.\u001b[39;49m\u001b[43m_cond\u001b[49m\u001b[38;5;241;43m.\u001b[39;49m\u001b[43mwait\u001b[49m\u001b[43m(\u001b[49m\u001b[43mtimeout\u001b[49m\u001b[43m)\u001b[49m\n\u001b[1;32m    608\u001b[0m \u001b[38;5;28;01mreturn\u001b[39;00m signaled\n",
      "File \u001b[0;32m~/anaconda3/envs/py10/lib/python3.10/threading.py:320\u001b[0m, in \u001b[0;36mCondition.wait\u001b[0;34m(self, timeout)\u001b[0m\n\u001b[1;32m    318\u001b[0m \u001b[38;5;28;01mtry\u001b[39;00m:    \u001b[38;5;66;03m# restore state no matter what (e.g., KeyboardInterrupt)\u001b[39;00m\n\u001b[1;32m    319\u001b[0m     \u001b[38;5;28;01mif\u001b[39;00m timeout \u001b[38;5;129;01mis\u001b[39;00m \u001b[38;5;28;01mNone\u001b[39;00m:\n\u001b[0;32m--> 320\u001b[0m         \u001b[43mwaiter\u001b[49m\u001b[38;5;241;43m.\u001b[39;49m\u001b[43macquire\u001b[49m\u001b[43m(\u001b[49m\u001b[43m)\u001b[49m\n\u001b[1;32m    321\u001b[0m         gotit \u001b[38;5;241m=\u001b[39m \u001b[38;5;28;01mTrue\u001b[39;00m\n\u001b[1;32m    322\u001b[0m     \u001b[38;5;28;01melse\u001b[39;00m:\n",
      "\u001b[0;31mKeyboardInterrupt\u001b[0m: "
     ]
    }
   ],
   "source": [
    "sampler, pos, prob, state = main(pa,guess,niter=5000,nwalkers=ndim*2)"
   ]
  },
  {
   "cell_type": "code",
   "execution_count": null,
   "id": "d6367152-94c8-45fe-a32e-45a1541b32dd",
   "metadata": {
    "tags": []
   },
   "outputs": [],
   "source": [
    "flat_samples = sampler.get_chain(discard=4000,flat=True)\n",
    "\n",
    "samples = sampler.flatchain\n",
    "best_sample = samples[np.argmax(sampler.flatlnprobability)]\n",
    "\n",
    "fig = corner.corner(flat_samples,labels=names,quantiles=[0.16, 0.5, 0.84])\n",
    "\n",
    "axes = np.array(fig.axes).reshape((ndim, ndim))\n",
    "\n",
    "# Loop over the diagonal\n",
    "for i,name in enumerate(names):\n",
    "    ax = axes[i, i]\n",
    "    ax.axvline(pardict[name], color=\"g\", label='thrown')\n",
    "    ax.axvline(initial_guessdict[name], color=\"b\", label='initial guess')\n",
    "    ax.axvline(best_sample[i], color=\"r\", label = 'max likelihood')\n",
    "    if i == 0:\n",
    "        fig.legend()\n",
    "    # ax.set_xlim(np.min([pardict[names[i]],initial_guessdict[names[i]],best_sample[i]]),np.max([pardict[names[i]],initial_guessdict[names[i]],best_sample[i]]))\n",
    "\n",
    "    # Loop over the histograms\n",
    "for yi in range(ndim):\n",
    "    for xi in range(yi):\n",
    "        ax = axes[yi, xi]\n",
    "        # ax.set_xlim(np.min([pardict[names[xi]],initial_guessdict[names[xi]],best_sample[xi]]),np.max([pardict[names[xi]],initial_guessdict[names[xi]],best_sample[xi]]))\n",
    "        # ax.set_ylim(np.min([pardict[names[yi]],initial_guessdict[names[yi]],best_sample[yi]]),np.max([pardict[names[yi]],initial_guessdict[names[yi]],best_sample[yi]]))\n",
    "        ax.axvline(pardict[names[xi]], color=\"g\")\n",
    "        ax.axvline(best_sample[xi], color=\"r\")\n",
    "        ax.axhline(pardict[names[yi]], color=\"g\")\n",
    "        ax.axhline(best_sample[yi], color=\"r\")\n",
    "        ax.axvline(initial_guessdict[names[xi]], color=\"b\")\n",
    "        ax.axhline(initial_guessdict[names[yi]], color=\"b\")\n",
    "        ax.plot(pardict[names[xi]], pardict[names[yi]], \"sg\")\n",
    "        ax.plot(best_sample[xi], best_sample[yi], \"sr\")\n",
    "        ax.plot(initial_guessdict[names[xi]], initial_guessdict[names[yi]], \"sb\")"
   ]
  },
  {
   "cell_type": "code",
   "execution_count": null,
   "id": "85a1cc5c-4240-4637-a85d-318a7276522e",
   "metadata": {
    "tags": []
   },
   "outputs": [],
   "source": [
    "pars"
   ]
  },
  {
   "cell_type": "code",
   "execution_count": null,
   "id": "701c64a0-eaec-4dba-a317-a62b46651a9f",
   "metadata": {
    "tags": []
   },
   "outputs": [],
   "source": [
    "guessdict = {p.name:p.value for p in guess}"
   ]
  },
  {
   "cell_type": "code",
   "execution_count": null,
   "id": "89695c3b-f239-4cf9-9664-9f9d729d21ae",
   "metadata": {
    "tags": []
   },
   "outputs": [],
   "source": [
    "np.array(list(guessdict.values()))"
   ]
  },
  {
   "cell_type": "code",
   "execution_count": null,
   "id": "aaf55d8b-5c29-41b9-aa07-b111ded5f2c1",
   "metadata": {
    "tags": []
   },
   "outputs": [],
   "source": [
    "len(flat_samples)"
   ]
  },
  {
   "cell_type": "code",
   "execution_count": null,
   "id": "90d3afb0-2faf-454b-8338-e632f58575c1",
   "metadata": {},
   "outputs": [],
   "source": [
    "best_sample"
   ]
  },
  {
   "cell_type": "code",
   "execution_count": null,
   "id": "f0ec216f-5a3b-42a5-941b-5b3d78f6c813",
   "metadata": {
    "tags": []
   },
   "outputs": [],
   "source": [
    "len(real_nfits)"
   ]
  },
  {
   "cell_type": "code",
   "execution_count": null,
   "id": "8188155c-035f-465e-b3a9-0a65d5f7ccf2",
   "metadata": {},
   "outputs": [],
   "source": []
  }
 ],
 "metadata": {
  "kernelspec": {
   "display_name": "Python 3 (ipykernel)",
   "language": "python",
   "name": "python3"
  },
  "language_info": {
   "codemirror_mode": {
    "name": "ipython",
    "version": 3
   },
   "file_extension": ".py",
   "mimetype": "text/x-python",
   "name": "python",
   "nbconvert_exporter": "python",
   "pygments_lexer": "ipython3",
   "version": "3.10.12"
  }
 },
 "nbformat": 4,
 "nbformat_minor": 5
}
