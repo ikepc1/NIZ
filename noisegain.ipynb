{
 "cells": [
  {
   "cell_type": "code",
   "execution_count": 1,
   "id": "3392d430-ce72-4ac9-900f-6a91109daad1",
   "metadata": {
    "tags": []
   },
   "outputs": [],
   "source": [
    "from noise import *\n",
    "import matplotlib.pyplot as plt\n",
    "from scipy.optimize import curve_fit\n",
    "from scipy.fft import fft, ifft\n",
    "%matplotlib widget"
   ]
  },
  {
   "cell_type": "code",
   "execution_count": 2,
   "id": "be569646-6b10-4f48-90c3-1b53c39603e8",
   "metadata": {
    "tags": []
   },
   "outputs": [],
   "source": [
    "starti = 38\n",
    "endi = 42"
   ]
  },
  {
   "cell_type": "code",
   "execution_count": 3,
   "id": "2c9fe3ce-d451-41f6-a359-4e31b891162a",
   "metadata": {
    "tags": []
   },
   "outputs": [
    {
     "ename": "FileNotFoundError",
     "evalue": "[Errno 2] No such file or directory: '/home/isaac/niche_data/20200615/rubin/20200615050320.bg.bin'",
     "output_type": "error",
     "traceback": [
      "\u001b[0;31m---------------------------------------------------------------------------\u001b[0m",
      "\u001b[0;31mFileNotFoundError\u001b[0m                         Traceback (most recent call last)",
      "Cell \u001b[0;32mIn[3], line 26\u001b[0m\n\u001b[1;32m     24\u001b[0m noise_open \u001b[38;5;241m=\u001b[39m read_noise_file(p_open)\u001b[38;5;241m.\u001b[39mastype(\u001b[38;5;124m'\u001b[39m\u001b[38;5;124mfloat\u001b[39m\u001b[38;5;124m'\u001b[39m)\n\u001b[1;32m     25\u001b[0m \u001b[38;5;66;03m# noise_open -= noise_open.mean()\u001b[39;00m\n\u001b[0;32m---> 26\u001b[0m noise_closed \u001b[38;5;241m=\u001b[39m \u001b[43mread_noise_file\u001b[49m\u001b[43m(\u001b[49m\u001b[43mp_closed\u001b[49m\u001b[43m)\u001b[49m\u001b[38;5;241m.\u001b[39mastype(\u001b[38;5;124m'\u001b[39m\u001b[38;5;124mfloat\u001b[39m\u001b[38;5;124m'\u001b[39m)\n\u001b[1;32m     27\u001b[0m \u001b[38;5;66;03m# noise_closed -= noise_closed.mean()\u001b[39;00m\n\u001b[1;32m     28\u001b[0m fadc_open_dict[counter] \u001b[38;5;241m=\u001b[39m noise_open\n",
      "File \u001b[0;32m~/NIZ/utils.py:113\u001b[0m, in \u001b[0;36mread_noise_file\u001b[0;34m(filepath)\u001b[0m\n\u001b[1;32m    110\u001b[0m \u001b[38;5;28;01mdef\u001b[39;00m \u001b[38;5;21mread_noise_file\u001b[39m(filepath: Path) \u001b[38;5;241m-\u001b[39m\u001b[38;5;241m>\u001b[39m np\u001b[38;5;241m.\u001b[39mndarray:\n\u001b[1;32m    111\u001b[0m \u001b[38;5;250m    \u001b[39m\u001b[38;5;124;03m'''This function reads a noise file and returns a numoy array of the traces.\u001b[39;00m\n\u001b[1;32m    112\u001b[0m \u001b[38;5;124;03m    '''\u001b[39;00m\n\u001b[0;32m--> 113\u001b[0m     \u001b[38;5;28;01mreturn\u001b[39;00m np\u001b[38;5;241m.\u001b[39mvstack([nraw\u001b[38;5;241m.\u001b[39mwaveform \u001b[38;5;28;01mfor\u001b[39;00m nraw \u001b[38;5;129;01min\u001b[39;00m \u001b[43mread_niche_file\u001b[49m\u001b[43m(\u001b[49m\u001b[43mfilepath\u001b[49m\u001b[43m)\u001b[49m])\n",
      "File \u001b[0;32m~/NIZ/utils.py:106\u001b[0m, in \u001b[0;36mread_niche_file\u001b[0;34m(filepath)\u001b[0m\n\u001b[1;32m    103\u001b[0m \u001b[38;5;28;01mdef\u001b[39;00m \u001b[38;5;21mread_niche_file\u001b[39m(filepath: Path) \u001b[38;5;241m-\u001b[39m\u001b[38;5;241m>\u001b[39m \u001b[38;5;28mlist\u001b[39m[NicheRaw]:\n\u001b[1;32m    104\u001b[0m \u001b[38;5;250m    \u001b[39m\u001b[38;5;124;03m'''This function reads a noise file and returns a numoy array of the traces.\u001b[39;00m\n\u001b[1;32m    105\u001b[0m \u001b[38;5;124;03m    '''\u001b[39;00m\n\u001b[0;32m--> 106\u001b[0m     \u001b[38;5;28;01mwith\u001b[39;00m \u001b[43mfilepath\u001b[49m\u001b[38;5;241;43m.\u001b[39;49m\u001b[43mopen\u001b[49m\u001b[43m(\u001b[49m\u001b[38;5;124;43m'\u001b[39;49m\u001b[38;5;124;43mrb\u001b[39;49m\u001b[38;5;124;43m'\u001b[39;49m\u001b[43m)\u001b[49m \u001b[38;5;28;01mas\u001b[39;00m open_file:\n\u001b[1;32m    107\u001b[0m         nraw_list \u001b[38;5;241m=\u001b[39m \u001b[38;5;28mlist\u001b[39m(\u001b[38;5;28mset\u001b[39m(bin_to_raw(open_file\u001b[38;5;241m.\u001b[39mread(), filepath\u001b[38;5;241m.\u001b[39mparent\u001b[38;5;241m.\u001b[39mname, retfit\u001b[38;5;241m=\u001b[39m\u001b[38;5;28;01mFalse\u001b[39;00m)))\n\u001b[1;32m    108\u001b[0m     \u001b[38;5;28;01mreturn\u001b[39;00m nraw_list\n",
      "File \u001b[0;32m~/anaconda3/envs/py10/lib/python3.10/pathlib.py:1119\u001b[0m, in \u001b[0;36mPath.open\u001b[0;34m(self, mode, buffering, encoding, errors, newline)\u001b[0m\n\u001b[1;32m   1117\u001b[0m \u001b[38;5;28;01mif\u001b[39;00m \u001b[38;5;124m\"\u001b[39m\u001b[38;5;124mb\u001b[39m\u001b[38;5;124m\"\u001b[39m \u001b[38;5;129;01mnot\u001b[39;00m \u001b[38;5;129;01min\u001b[39;00m mode:\n\u001b[1;32m   1118\u001b[0m     encoding \u001b[38;5;241m=\u001b[39m io\u001b[38;5;241m.\u001b[39mtext_encoding(encoding)\n\u001b[0;32m-> 1119\u001b[0m \u001b[38;5;28;01mreturn\u001b[39;00m \u001b[38;5;28;43mself\u001b[39;49m\u001b[38;5;241;43m.\u001b[39;49m\u001b[43m_accessor\u001b[49m\u001b[38;5;241;43m.\u001b[39;49m\u001b[43mopen\u001b[49m\u001b[43m(\u001b[49m\u001b[38;5;28;43mself\u001b[39;49m\u001b[43m,\u001b[49m\u001b[43m \u001b[49m\u001b[43mmode\u001b[49m\u001b[43m,\u001b[49m\u001b[43m \u001b[49m\u001b[43mbuffering\u001b[49m\u001b[43m,\u001b[49m\u001b[43m \u001b[49m\u001b[43mencoding\u001b[49m\u001b[43m,\u001b[49m\u001b[43m \u001b[49m\u001b[43merrors\u001b[49m\u001b[43m,\u001b[49m\n\u001b[1;32m   1120\u001b[0m \u001b[43m                           \u001b[49m\u001b[43mnewline\u001b[49m\u001b[43m)\u001b[49m\n",
      "\u001b[0;31mFileNotFoundError\u001b[0m: [Errno 2] No such file or directory: '/home/isaac/niche_data/20200615/rubin/20200615050320.bg.bin'"
     ]
    }
   ],
   "source": [
    "counters = ['bardeen',\n",
    " 'einstein',\n",
    " 'feynman',\n",
    " 'meitner',\n",
    " 'newton',\n",
    " 'noether',\n",
    " 'rossi',\n",
    " 'rubin']\n",
    "# counters = ['bell','curie','feynman','newton','noether','rossi','rubin']\n",
    "noise_open_dict = {}\n",
    "noise_closed_dict = {}\n",
    "fadc_open_dict = {}\n",
    "fadc_closed_dict = {}\n",
    "diff_dict = {}\n",
    "removed_murmur_dict = {}\n",
    "freq = freq_mhz()\n",
    "pos_freq = freq[freq>0]\n",
    "date = '20200615'\n",
    "openfile =  f'{date}050402.bg.bin'\n",
    "closedfile =f'{date}050320.bg.bin'\n",
    "for counter in counters:\n",
    "    p_open = Path(f'/home/isaac/niche_data/{date}/{counter}/{openfile}')\n",
    "    p_closed = Path(f'/home/isaac/niche_data/{date}/{counter}/{closedfile}')\n",
    "    noise_open = read_noise_file(p_open).astype('float')\n",
    "    # noise_open -= noise_open.mean()\n",
    "    noise_closed = read_noise_file(p_closed).astype('float')\n",
    "    # noise_closed -= noise_closed.mean()\n",
    "    fadc_open_dict[counter] = noise_open\n",
    "    fadc_closed_dict[counter] = noise_closed\n",
    "    noise_open_dict[counter] = noise_fft(noise_open)**2\n",
    "    noise_closed_dict[counter] = noise_fft(noise_closed)**2\n",
    "    diff_dict[counter] = noise_open_dict[counter] - noise_closed_dict[counter]\n",
    "    removed_murmur = diff_dict[counter][freq>0.]\n",
    "    removed_murmur[:starti] = removed_murmur[starti:endi].mean()\n",
    "    removed_murmur_dict[counter] = np.concatenate(([diff_dict[counter][0]],removed_murmur,[diff_dict[counter][512]],removed_murmur[::-1]))"
   ]
  },
  {
   "cell_type": "code",
   "execution_count": null,
   "id": "efcea50c-663f-4520-91e3-8d21d015f3e9",
   "metadata": {},
   "outputs": [],
   "source": []
  },
  {
   "cell_type": "code",
   "execution_count": null,
   "id": "b046ce79-9fdb-417e-82b8-674333c2e685",
   "metadata": {
    "tags": []
   },
   "outputs": [],
   "source": [
    "def spectrum_fit(freq: float | np.ndarray, scale: float, freq_corner: float, power:float) -> float | np.ndarray:\n",
    "    return scale * (1 + ((freq+freq_corner)/freq_corner)) ** (-power)\n",
    "    # return scale * np.exp(-power*(freq/freq_corner))\n",
    "\n",
    "plt.figure()\n",
    "plt.plot(pos_freq, spectrum_fit(pos_freq,70,500,10))\n",
    "plt.loglog()"
   ]
  },
  {
   "cell_type": "code",
   "execution_count": null,
   "id": "20845856-bfd0-475e-9281-1816d0e4aa16",
   "metadata": {
    "tags": []
   },
   "outputs": [],
   "source": [
    "\n",
    "\n",
    "for counter in counters:\n",
    "    plt.figure()\n",
    "    # guess = (diff_dict[counter][freq>0.].max(),500,5)\n",
    "    # popt, pcov = curve_fit(spectrum_fit, pos_freq[:endi], removed_murmur[:endi],p0=guess)\n",
    "    # plt.plot(pos_freq, spectrum_fit(pos_freq,*popt), label = 'fit')\n",
    "    print(np.sqrt(diff_dict[counter][freq>0.].max()/250))\n",
    "    plt.plot(freq[freq>0.], noise_open_dict[counter][freq>0.], label = 'open')\n",
    "    plt.plot(freq[freq>0.], noise_closed_dict[counter][freq>0.], label = 'closed')\n",
    "    plt.plot(freq[freq>0.], diff_dict[counter][freq>0.], label = 'diff')\n",
    "    plt.plot(freq[freq>0.], removed_murmur_dict[counter][freq>0.], label = 'removed murmur')\n",
    "    plt.legend()\n",
    "    plt.title(counter)\n",
    "    plt.loglog()\n",
    "    plt.grid()\n",
    "    plt.xlabel('Frequency (MHz)')\n",
    "    plt.ylabel('Relative Power')"
   ]
  },
  {
   "cell_type": "code",
   "execution_count": null,
   "id": "e433fd27-612d-4f11-a62c-300ea0ebb0e2",
   "metadata": {},
   "outputs": [],
   "source": [
    "plt.figure()\n",
    "plt.plot(diff_dict['newton'][1:])\n",
    "plt.plot(removed_murmur_dict['newton'][1:])"
   ]
  },
  {
   "cell_type": "code",
   "execution_count": null,
   "id": "90ce9c4d-76bc-4750-82b0-b1e16c420293",
   "metadata": {
    "tags": []
   },
   "outputs": [],
   "source": [
    "# gains = {'bardeen': 2.1882036884651583,\n",
    "#  'bell': 7.406880637204029,\n",
    "#  'curie': 9.561962861718685,\n",
    "#  'feynman': 7.734872492963433,\n",
    "#  'newton': 11.281268225032628,\n",
    "#  'noether': 9.834954480425155,\n",
    "#  'rossi': 5.1908236939723436,\n",
    "#  'rubin': 5.783684658654795,\n",
    "#  'rutherford': 8.852228215755146}\n",
    "# gains = {'bardeen': 10.384855151751086,\n",
    "#  'bell': 35.3473337231697,\n",
    "#  'curie': 45.38156687381197,\n",
    "#  'feynman': 36.2549482800708,\n",
    "#  'newton': 52.702193982134844,\n",
    "#  'noether': 45.322859969627345,\n",
    "#  'rossi': 24.25794714099332,\n",
    "#  'rubin': 27.323269274568446}\n",
    "\n",
    "gains = {'bardeen': 0.4301294450523357,\n",
    " 'bell': 1.4639139998316604,\n",
    " 'curie': 1.8795107279931322,\n",
    " 'feynman': 1.5014120362528374,\n",
    " 'newton': 2.182147680064487,\n",
    " 'noether': 1.8765021501429047,\n",
    " 'rossi': 1.0044919895844284,\n",
    " 'rubin': 1.131329751694293}"
   ]
  },
  {
   "cell_type": "code",
   "execution_count": null,
   "id": "bebb94b2-7f6a-4ee5-bf69-3efbf9fc3103",
   "metadata": {},
   "outputs": [],
   "source": [
    "plt.figure()\n",
    "for counter in counters:\n",
    "    plt.scatter(0,diff_dict[counter][freq>0.].max()/gains[counter]**2,label=counter)\n",
    "plt.legend()"
   ]
  },
  {
   "cell_type": "code",
   "execution_count": null,
   "id": "61a61227-7178-40ea-87ea-ac3f7b849ba7",
   "metadata": {
    "tags": []
   },
   "outputs": [],
   "source": [
    "plt.figure()\n",
    "for counter in counters:\n",
    "    nsbg = (np.var(fadc_open_dict[counter]) - np.var(fadc_closed_dict[counter]))/gains[counter]\n",
    "    plt.scatter(0,nsbg,label=counter)\n",
    "plt.legend()"
   ]
  },
  {
   "cell_type": "code",
   "execution_count": null,
   "id": "3cda5332-3ebf-48ed-9d2c-efd1c570a454",
   "metadata": {
    "tags": []
   },
   "outputs": [],
   "source": [
    "plt.figure()\n",
    "for counter in counters:\n",
    "    plt.scatter(0,removed_murmur_dict[counter][1],label=counter)\n",
    "plt.legend()"
   ]
  },
  {
   "cell_type": "code",
   "execution_count": null,
   "id": "591b3c32-3120-40c1-b1d0-7d95c32582b3",
   "metadata": {
    "tags": []
   },
   "outputs": [],
   "source": [
    "nsbg = np.array([diff_dict[counter][freq>0.].max()/gains[counter]**2 for counter in counters])"
   ]
  },
  {
   "cell_type": "code",
   "execution_count": null,
   "id": "6d1477e8-875b-4922-8f8c-37517ec74df0",
   "metadata": {
    "tags": []
   },
   "outputs": [],
   "source": [
    "nsbg.mean()"
   ]
  },
  {
   "cell_type": "code",
   "execution_count": null,
   "id": "a72278fa-e9d4-4d7d-b9dd-2a33ba296ec4",
   "metadata": {
    "tags": []
   },
   "outputs": [],
   "source": [
    "A = .0077 #m^2\n",
    "niche_omega =4*np.pi*np.sin(np.radians(45/2))**2"
   ]
  },
  {
   "cell_type": "code",
   "execution_count": null,
   "id": "3a9d598f-788e-43db-a2d3-663753c3844c",
   "metadata": {
    "tags": []
   },
   "outputs": [],
   "source": [
    "niche_omega"
   ]
  },
  {
   "cell_type": "code",
   "execution_count": null,
   "id": "76313e5e-117f-4629-92af-0d6113569579",
   "metadata": {
    "tags": []
   },
   "outputs": [],
   "source": [
    "np.mean(nsbg*5.*A*niche_omega)"
   ]
  },
  {
   "cell_type": "code",
   "execution_count": null,
   "id": "639d5606-6dad-4ef6-9af2-cc522d006e87",
   "metadata": {
    "tags": []
   },
   "outputs": [],
   "source": [
    "(3/.27/.9/.9)*100*4*(4*np.pi*np.sin(np.radians(.5))**2)"
   ]
  },
  {
   "cell_type": "code",
   "execution_count": null,
   "id": "243cab06-deac-4eb2-8007-df6655f9ec9e",
   "metadata": {
    "tags": []
   },
   "outputs": [],
   "source": [
    "thetac = np.arctan(np.sqrt(77/np.pi)/62.)\n",
    "frac = (1-np.cos(thetac)**5)\n",
    "\n",
    "def e_output(amp: float | np.ndarray, a: float, b: float) -> float | np.ndarray:\n",
    "    return a * (1 - np.exp(-amp/b))\n",
    "planck = 6.62607015e-34\n",
    "def nphotons(amp: float | np.ndarray) -> float | np.ndarray:\n",
    "    return 1.e-12 * e_output(amp,488.095,211.949) / (planck * (3e8/355e-9))\n",
    "\n",
    "amps = np.linspace(0,120,100)\n",
    "plt.figure()\n",
    "plt.plot(amps,frac * .005 * nphotons(amps))"
   ]
  },
  {
   "cell_type": "code",
   "execution_count": null,
   "id": "0a833bb2-67ac-4caf-87a7-a84a0f5d4214",
   "metadata": {},
   "outputs": [],
   "source": []
  }
 ],
 "metadata": {
  "kernelspec": {
   "display_name": "Python 3 (ipykernel)",
   "language": "python",
   "name": "python3"
  },
  "language_info": {
   "codemirror_mode": {
    "name": "ipython",
    "version": 3
   },
   "file_extension": ".py",
   "mimetype": "text/x-python",
   "name": "python",
   "nbconvert_exporter": "python",
   "pygments_lexer": "ipython3",
   "version": "3.10.12"
  }
 },
 "nbformat": 4,
 "nbformat_minor": 5
}
