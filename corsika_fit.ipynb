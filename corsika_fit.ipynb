{
 "cells": [
  {
   "cell_type": "code",
   "execution_count": 1,
   "id": "c65a1ba5-2e5b-409f-a3bd-3e3f8fbd425a",
   "metadata": {
    "tags": []
   },
   "outputs": [],
   "source": [
    "from fit import *\n",
    "import matplotlib.pyplot as plt\n",
    "%matplotlib widget\n",
    "from utils import plot_event, plot_generator, get_data_files, preceding_noise_files\n",
    "from counter_config import CounterConfig, init_config"
   ]
  },
  {
   "cell_type": "code",
   "execution_count": 2,
   "id": "4c981146-57cd-417d-a619-cbeaaa4ee5cf",
   "metadata": {
    "tags": []
   },
   "outputs": [],
   "source": [
    "data_date_and_time = '20200818040605'\n",
    "cfg = init_config(data_date_and_time)"
   ]
  },
  {
   "cell_type": "code",
   "execution_count": 5,
   "id": "85e3e0e6-c728-4447-9b13-cab292804225",
   "metadata": {
    "tags": []
   },
   "outputs": [
    {
     "data": {
      "text/plain": [
       "11"
      ]
     },
     "execution_count": 5,
     "metadata": {},
     "output_type": "execute_result"
    }
   ],
   "source": [
    "len(cfg.active_counters)"
   ]
  },
  {
   "cell_type": "code",
   "execution_count": 4,
   "id": "dda21948-5355-440e-b4ef-95ad9f5cad33",
   "metadata": {
    "tags": []
   },
   "outputs": [
    {
     "ename": "ValueError",
     "evalue": "operands could not be broadcast together with shapes (11,) (51200,12) ",
     "output_type": "error",
     "traceback": [
      "\u001b[0;31m---------------------------------------------------------------------------\u001b[0m",
      "\u001b[0;31mValueError\u001b[0m                                Traceback (most recent call last)",
      "Cell \u001b[0;32mIn[4], line 3\u001b[0m\n\u001b[1;32m      1\u001b[0m corsika_file \u001b[38;5;241m=\u001b[39m \u001b[38;5;124m'\u001b[39m\u001b[38;5;124m/home/isaac/NIZ/he_corsika/iact_DAT000004.dat\u001b[39m\u001b[38;5;124m'\u001b[39m\n\u001b[1;32m      2\u001b[0m pe \u001b[38;5;241m=\u001b[39m ProcessEvents(cfg, frozen_noise\u001b[38;5;241m=\u001b[39m\u001b[38;5;28;01mTrue\u001b[39;00m)\n\u001b[0;32m----> 3\u001b[0m real_nfits \u001b[38;5;241m=\u001b[39m \u001b[43mpe\u001b[49m\u001b[38;5;241;43m.\u001b[39;49m\u001b[43mgen_nfits_from_ei\u001b[49m\u001b[43m(\u001b[49m\u001b[43mcorsika_file\u001b[49m\u001b[43m)\u001b[49m\n",
      "File \u001b[0;32m~/NIZ/process_showers.py:57\u001b[0m, in \u001b[0;36mProcessEvents.gen_nfits_from_ei\u001b[0;34m(self, file)\u001b[0m\n\u001b[1;32m     56\u001b[0m \u001b[38;5;28;01mdef\u001b[39;00m \u001b[38;5;21mgen_nfits_from_ei\u001b[39m(\u001b[38;5;28mself\u001b[39m, file: Event) \u001b[38;5;241m-\u001b[39m\u001b[38;5;241m>\u001b[39m \u001b[38;5;28mlist\u001b[39m[NicheFit]:\n\u001b[0;32m---> 57\u001b[0m     trig \u001b[38;5;241m=\u001b[39m \u001b[38;5;28;43mself\u001b[39;49m\u001b[38;5;241;43m.\u001b[39;49m\u001b[43mprocess_ei_event\u001b[49m\u001b[43m(\u001b[49m\u001b[43mfile\u001b[49m\u001b[43m)\u001b[49m\n\u001b[1;32m     58\u001b[0m     nfits \u001b[38;5;241m=\u001b[39m [trig\u001b[38;5;241m.\u001b[39mcts[name]\u001b[38;5;241m.\u001b[39mto_nfit() \u001b[38;5;28;01mfor\u001b[39;00m name \u001b[38;5;129;01min\u001b[39;00m trig\u001b[38;5;241m.\u001b[39mnames]\n\u001b[1;32m     59\u001b[0m     \u001b[38;5;28;01mif\u001b[39;00m \u001b[38;5;28mself\u001b[39m\u001b[38;5;241m.\u001b[39mzero_noise:\n",
      "File \u001b[0;32m~/NIZ/process_showers.py:36\u001b[0m, in \u001b[0;36mProcessEvents.process_ei_event\u001b[0;34m(self, file)\u001b[0m\n\u001b[1;32m     34\u001b[0m \u001b[38;5;250m\u001b[39m\u001b[38;5;124;03m'''This function takes an event, generates a cherenkov signal'''\u001b[39;00m\n\u001b[1;32m     35\u001b[0m \u001b[38;5;28;01mif\u001b[39;00m \u001b[38;5;28mself\u001b[39m\u001b[38;5;241m.\u001b[39mfrozen_noise \u001b[38;5;129;01mor\u001b[39;00m \u001b[38;5;28mself\u001b[39m\u001b[38;5;241m.\u001b[39mzero_noise:\n\u001b[0;32m---> 36\u001b[0m     \u001b[38;5;28;01mreturn\u001b[39;00m \u001b[43mgen_niche_trigger\u001b[49m\u001b[43m(\u001b[49m\u001b[43mread_in_corsika\u001b[49m\u001b[43m(\u001b[49m\u001b[43mfile\u001b[49m\u001b[43m,\u001b[49m\u001b[43m \u001b[49m\u001b[38;5;28;43mself\u001b[39;49m\u001b[38;5;241;43m.\u001b[39;49m\u001b[43mcfg\u001b[49m\u001b[43m)\u001b[49m\u001b[43m,\u001b[49m\u001b[43m \u001b[49m\u001b[38;5;28;43mself\u001b[39;49m\u001b[38;5;241;43m.\u001b[39;49m\u001b[43mnoise\u001b[49m\u001b[43m)\u001b[49m\n\u001b[1;32m     37\u001b[0m \u001b[38;5;28;01melse\u001b[39;00m:\n\u001b[1;32m     38\u001b[0m     \u001b[38;5;28;01mreturn\u001b[39;00m gen_niche_trigger(read_in_corsika(file, \u001b[38;5;28mself\u001b[39m\u001b[38;5;241m.\u001b[39mcfg), generate_background(\u001b[38;5;28mself\u001b[39m\u001b[38;5;241m.\u001b[39mcfg\u001b[38;5;241m.\u001b[39mnoise_open_files))\n",
      "File \u001b[0;32m~/NIZ/trigger.py:252\u001b[0m, in \u001b[0;36mgen_niche_trigger\u001b[0;34m(ckv, noise)\u001b[0m\n\u001b[1;32m    250\u001b[0m photon_times \u001b[38;5;241m=\u001b[39m bin_medians(photon_bins)\n\u001b[1;32m    251\u001b[0m ts \u001b[38;5;241m=\u001b[39m TriggerSim(ckv\u001b[38;5;241m.\u001b[39mcfg)\n\u001b[0;32m--> 252\u001b[0m electrons \u001b[38;5;241m=\u001b[39m \u001b[43mts\u001b[49m\u001b[38;5;241;43m.\u001b[39;49m\u001b[43mgen_electron_signal\u001b[49m\u001b[43m(\u001b[49m\u001b[43mincident_photons\u001b[49m\u001b[43m,\u001b[49m\u001b[43m \u001b[49m\u001b[43mphoton_times\u001b[49m\u001b[43m)\u001b[49m\n\u001b[1;32m    253\u001b[0m fadc_counts, NICHE_bins \u001b[38;5;241m=\u001b[39m ts\u001b[38;5;241m.\u001b[39mgen_FADC_counts(electrons, photon_times)\n\u001b[1;32m    254\u001b[0m \u001b[38;5;66;03m# fadc_counts += generate_background(ckv.cfg.noise_files)\u001b[39;00m\n",
      "File \u001b[0;32m~/NIZ/trigger.py:127\u001b[0m, in \u001b[0;36mTriggerSim.gen_electron_signal\u001b[0;34m(self, incident_photons, times)\u001b[0m\n\u001b[1;32m    122\u001b[0m \u001b[38;5;250m\u001b[39m\u001b[38;5;124;03m'''This method converts the incident photons to each counter to\u001b[39;00m\n\u001b[1;32m    123\u001b[0m \u001b[38;5;124;03melectrons at each anode. Note: this is not the actual number of \u001b[39;00m\n\u001b[1;32m    124\u001b[0m \u001b[38;5;124;03melectrons at the anode, this is the pulse shape at the anode (in units of cathode electrons).\u001b[39;00m\n\u001b[1;32m    125\u001b[0m \u001b[38;5;124;03m'''\u001b[39;00m\n\u001b[1;32m    126\u001b[0m anode_electrons \u001b[38;5;241m=\u001b[39m np\u001b[38;5;241m.\u001b[39mempty_like(incident_photons)\n\u001b[0;32m--> 127\u001b[0m pes \u001b[38;5;241m=\u001b[39m \u001b[38;5;28;43mself\u001b[39;49m\u001b[38;5;241;43m.\u001b[39;49m\u001b[43mquantum_efficiency\u001b[49m\u001b[43m(\u001b[49m\u001b[43mincident_photons\u001b[49m\u001b[43m)\u001b[49m\n\u001b[1;32m    128\u001b[0m \u001b[38;5;28;01mfor\u001b[39;00m i, (pes, d) \u001b[38;5;129;01min\u001b[39;00m \u001b[38;5;28menumerate\u001b[39m(\u001b[38;5;28mzip\u001b[39m(pes, \u001b[38;5;28mself\u001b[39m\u001b[38;5;241m.\u001b[39mcfg\u001b[38;5;241m.\u001b[39mpmt_delay\u001b[38;5;241m.\u001b[39mvalues())):\n\u001b[1;32m    129\u001b[0m     anode_electrons[i] \u001b[38;5;241m=\u001b[39m \u001b[38;5;28mself\u001b[39m\u001b[38;5;241m.\u001b[39mtunka_convolve(pes, times, d)\n",
      "File \u001b[0;32m~/NIZ/trigger.py:119\u001b[0m, in \u001b[0;36mTriggerSim.quantum_efficiency\u001b[0;34m(self, incident_photons)\u001b[0m\n\u001b[1;32m    115\u001b[0m \u001b[38;5;28;01mdef\u001b[39;00m \u001b[38;5;21mquantum_efficiency\u001b[39m(\u001b[38;5;28mself\u001b[39m, incident_photons: np\u001b[38;5;241m.\u001b[39mndarray) \u001b[38;5;241m-\u001b[39m\u001b[38;5;241m>\u001b[39m np\u001b[38;5;241m.\u001b[39mndarray:\n\u001b[1;32m    116\u001b[0m \u001b[38;5;250m    \u001b[39m\u001b[38;5;124;03m'''This method converts incident photons to photoelectrons headed toward\u001b[39;00m\n\u001b[1;32m    117\u001b[0m \u001b[38;5;124;03m    the first dynode.\u001b[39;00m\n\u001b[1;32m    118\u001b[0m \u001b[38;5;124;03m    '''\u001b[39;00m\n\u001b[0;32m--> 119\u001b[0m     \u001b[38;5;28;01mreturn\u001b[39;00m (\u001b[43mnp\u001b[49m\u001b[38;5;241;43m.\u001b[39;49m\u001b[43marray\u001b[49m\u001b[43m(\u001b[49m\u001b[38;5;28;43mlist\u001b[39;49m\u001b[43m(\u001b[49m\u001b[38;5;28;43mself\u001b[39;49m\u001b[38;5;241;43m.\u001b[39;49m\u001b[43mcfg\u001b[49m\u001b[38;5;241;43m.\u001b[39;49m\u001b[43mquantum_efficiency\u001b[49m\u001b[38;5;241;43m.\u001b[39;49m\u001b[43mvalues\u001b[49m\u001b[43m(\u001b[49m\u001b[43m)\u001b[49m\u001b[43m)\u001b[49m\u001b[43m)\u001b[49m\u001b[43m \u001b[49m\u001b[38;5;241;43m*\u001b[39;49m\u001b[43m \u001b[49m\u001b[43mincident_photons\u001b[49m\u001b[38;5;241;43m.\u001b[39;49m\u001b[43mT\u001b[49m)\u001b[38;5;241m.\u001b[39mT\n",
      "\u001b[0;31mValueError\u001b[0m: operands could not be broadcast together with shapes (11,) (51200,12) "
     ]
    }
   ],
   "source": [
    "corsika_file = '/home/isaac/NIZ/he_corsika/iact_DAT000004.dat'\n",
    "pe = ProcessEvents(cfg, frozen_noise=True)\n",
    "real_nfits = pe.gen_nfits_from_ei(corsika_file)"
   ]
  },
  {
   "cell_type": "code",
   "execution_count": null,
   "id": "7af5343e-7fd0-45fc-8b74-6ee5a67fbea2",
   "metadata": {},
   "outputs": [],
   "source": [
    "real_nfits"
   ]
  },
  {
   "cell_type": "code",
   "execution_count": null,
   "id": "7338e9af-8ab0-40c2-9d2f-8dfdc6642624",
   "metadata": {
    "tags": []
   },
   "outputs": [],
   "source": [
    "ty = tyro(real_nfits)\n",
    "pf = NichePlane(real_nfits)\n",
    "plot_event(ty)"
   ]
  },
  {
   "cell_type": "code",
   "execution_count": null,
   "id": "0efb37f7-1109-4fff-b560-69c6c594fdb3",
   "metadata": {
    "tags": []
   },
   "outputs": [],
   "source": [
    "import CHASM as ch\n",
    "ei = ch.EventioWrapper(corsika_file)\n",
    "print(ei.X[ei.nch.argmax()])\n",
    "print(ei.nch.max())\n",
    "print(ei.theta)"
   ]
  },
  {
   "cell_type": "code",
   "execution_count": null,
   "id": "22017ef5-138e-4fe1-a113-cffe1d788fe7",
   "metadata": {
    "tags": []
   },
   "outputs": [],
   "source": [
    "guess = make_guess(ty, pf,cfg)\n",
    "[print(p) for p in guess];"
   ]
  },
  {
   "cell_type": "code",
   "execution_count": null,
   "id": "c8fe8473-f7cd-4937-9285-d232a5c68aa4",
   "metadata": {
    "tags": []
   },
   "outputs": [],
   "source": [
    "guess = BasicParams.adjust_guess(guess)"
   ]
  },
  {
   "cell_type": "code",
   "execution_count": null,
   "id": "c5fbddff-b035-4bca-9ce8-0232e59d0b46",
   "metadata": {
    "tags": []
   },
   "outputs": [],
   "source": [
    "pt = PeakTimes(real_nfits, BasicParams, cfg)\n",
    "pt.target_parameters = ['zenith','azimuth']\n",
    "m = init_minuit(pt, guess)\n",
    "m.simplex(ncall=40)"
   ]
  },
  {
   "cell_type": "code",
   "execution_count": null,
   "id": "24c243a6-2a6c-4def-ba95-42708225affe",
   "metadata": {
    "tags": []
   },
   "outputs": [],
   "source": [
    "tpguess = update_guess(m)\n",
    "pw = PulseWidth(real_nfits, BasicParams, cfg)\n",
    "pw.target_parameters = ['xmax']\n",
    "m = init_minuit(pw, tpguess)\n",
    "m.simplex(ncall=40)"
   ]
  },
  {
   "cell_type": "code",
   "execution_count": null,
   "id": "7ea92ac9-bccd-42c6-83d5-8347f7eb629c",
   "metadata": {
    "tags": []
   },
   "outputs": [],
   "source": [
    "xmaxguess = update_guess(m)\n",
    "pa = PulseArea(real_nfits, BasicParams, cfg)\n",
    "pa.target_parameters = ['nmax']\n",
    "m = init_minuit(pa, xmaxguess)\n",
    "m.simplex(ncall=20)"
   ]
  },
  {
   "cell_type": "code",
   "execution_count": null,
   "id": "cfc96492-02c0-4094-9062-01413a262a36",
   "metadata": {
    "tags": []
   },
   "outputs": [],
   "source": [
    "nmaxguess = update_guess(m)\n",
    "pa = NormalizedPulseArea(real_nfits, BasicParams, cfg)\n",
    "pa.target_parameters = ['xmax','nmax','corex','corey']\n",
    "m = init_minuit(pa, nmaxguess)\n",
    "m.simplex()"
   ]
  },
  {
   "cell_type": "code",
   "execution_count": null,
   "id": "6028ee09-1d1d-471f-86de-ff9014ea7bb4",
   "metadata": {
    "tags": []
   },
   "outputs": [],
   "source": [
    "guess = update_guess(m)\n",
    "at = AllTunka(real_nfits, BasicParams, cfg)\n",
    "at.target_parameters = ['t_offset']\n",
    "m = init_minuit(at, guess)\n",
    "m.migrad()"
   ]
  },
  {
   "cell_type": "code",
   "execution_count": null,
   "id": "49482b59-1750-4deb-8333-94d1857215ce",
   "metadata": {
    "tags": []
   },
   "outputs": [],
   "source": [
    "guess = update_guess(m)\n",
    "at = AllSamples(real_nfits, BasicParams, cfg)\n",
    "at.target_parameters = ['t_offset']\n",
    "m = init_minuit(at, guess)\n"
   ]
  },
  {
   "cell_type": "code",
   "execution_count": null,
   "id": "17dc9623-6481-46f0-a4f2-791e0685e847",
   "metadata": {
    "tags": []
   },
   "outputs": [],
   "source": [
    "m.tol=.01\n",
    "m.fixed = True\n",
    "m.fixed['xmax'] = False\n",
    "m.fixed['nmax'] = False\n",
    "m.fixed['zenith'] = False\n",
    "m.fixed['azimuth'] = False\n",
    "m.fixed['corex'] = False\n",
    "m.fixed['corey'] = False\n",
    "# m.fixed['t_offset'] = False\n",
    "# m.scan()\n",
    "m.simplex()"
   ]
  },
  {
   "cell_type": "code",
   "execution_count": null,
   "id": "11d22063-76c1-402b-b318-c15ac86a6180",
   "metadata": {
    "tags": []
   },
   "outputs": [],
   "source": [
    "m.tol=.01\n",
    "m.fixed = True\n",
    "m.fixed['xmax'] = False\n",
    "m.fixed['nmax'] = False\n",
    "m.fixed['lambda'] = False\n",
    "# m.scan()\n",
    "m.simplex()"
   ]
  },
  {
   "cell_type": "code",
   "execution_count": null,
   "id": "b1c27768-c8be-4584-8afb-94f37ae880b8",
   "metadata": {
    "tags": []
   },
   "outputs": [],
   "source": [
    "import CHASM as ch\n",
    "ei = ch.EventioWrapper(corsika_file)\n",
    "print(ei.X[ei.nch.argmax()])\n",
    "print(ei.nch.max())\n",
    "print(ei.theta)"
   ]
  },
  {
   "cell_type": "code",
   "execution_count": null,
   "id": "1bc811bf-638e-4a3a-bab9-676cef584e23",
   "metadata": {
    "tags": []
   },
   "outputs": [],
   "source": [
    "fitpars = [p.value for p in m.params]\n",
    "fit_ev = BasicParams.get_event(fitpars)\n",
    "print(fit_ev)"
   ]
  },
  {
   "cell_type": "code",
   "execution_count": null,
   "id": "cd70b46a-5240-4c59-a729-ec1bcbb23612",
   "metadata": {
    "tags": []
   },
   "outputs": [],
   "source": [
    "fit_nfits = pe.gen_nfits_from_event(fit_ev)\n",
    "plot_event(tyro(fit_nfits))"
   ]
  },
  {
   "cell_type": "code",
   "execution_count": null,
   "id": "0641522b-5aa6-4cd0-8917-405ee1b29901",
   "metadata": {
    "tags": []
   },
   "outputs": [],
   "source": [
    "plt.figure()\n",
    "fitpars = [p.value for p in m.params]\n",
    "plt.errorbar(np.arange(len(at.real_values)),at.real_values,yerr=at.error, fmt=\"o\")\n",
    "plt.plot(at.get_output(fitpars))"
   ]
  },
  {
   "cell_type": "code",
   "execution_count": null,
   "id": "9eadb957-50e6-48b1-ac32-24cc0864f6f5",
   "metadata": {
    "tags": []
   },
   "outputs": [],
   "source": [
    "at.chi2(fitpars)/m.ndof"
   ]
  },
  {
   "cell_type": "code",
   "execution_count": null,
   "id": "f831c74f-f6a2-4d16-90b9-4f7be5a05441",
   "metadata": {
    "tags": []
   },
   "outputs": [],
   "source": [
    "at.get_output(fitpars)"
   ]
  },
  {
   "cell_type": "code",
   "execution_count": null,
   "id": "a20ef9f0-a408-4b79-87a5-13dabb6d35b8",
   "metadata": {
    "tags": []
   },
   "outputs": [],
   "source": [
    "for f in at.nfits:\n",
    "    plt.figure()\n",
    "    plt.plot(f.waveform)\n",
    "    plt.hlines(f.baseline + f.baseline_error,0,1040, color='k')\n",
    "    plt.hlines(f.baseline,0,1040, color='r')\n",
    "    plt.vlines(f.start_rise, f.baseline,f.waveform.max())\n",
    "    plt.xlim(f.start_rise,f.end_fall)\n"
   ]
  },
  {
   "cell_type": "code",
   "execution_count": null,
   "id": "09680ac5-e9cf-41f3-8257-5ae242400b0a",
   "metadata": {},
   "outputs": [],
   "source": [
    "cfg.data_files"
   ]
  },
  {
   "cell_type": "code",
   "execution_count": null,
   "id": "f4a5ddca-24db-4d75-8677-8eadede883e9",
   "metadata": {},
   "outputs": [],
   "source": []
  }
 ],
 "metadata": {
  "kernelspec": {
   "display_name": "Python 3 (ipykernel)",
   "language": "python",
   "name": "python3"
  },
  "language_info": {
   "codemirror_mode": {
    "name": "ipython",
    "version": 3
   },
   "file_extension": ".py",
   "mimetype": "text/x-python",
   "name": "python",
   "nbconvert_exporter": "python",
   "pygments_lexer": "ipython3",
   "version": "3.10.12"
  }
 },
 "nbformat": 4,
 "nbformat_minor": 5
}
